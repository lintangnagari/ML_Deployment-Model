{
  "cells": [
    {
      "cell_type": "markdown",
      "metadata": {
        "id": "vcShZNzieTRJ"
      },
      "source": [
        "# **LAST PROJECT: IMAGE CLASSIFICATION MODEL DEPLOYMENT 👨🏽‍💻**"
      ]
    },
    {
      "cell_type": "markdown",
      "metadata": {
        "id": "PnMpB0-GeWo6"
      },
      "source": [
        "* Name         : Lintang Nagari\n",
        "* Email        : unggullintangg@gmail.com\n",
        "* Linkedin     : <a href='https://www.linkedin.com/in/lintangnagari/'>Lintang Nagari</a>\n",
        "* Github       : <a href='https://github.com/lnt-ngr'>lnt-ngr</a>"
      ]
    },
    {
      "cell_type": "markdown",
      "metadata": {
        "id": "3clPYL0YeY9J"
      },
      "source": [
        "**Here are the submission criteria you must meet:**\n",
        "\n",
        "* Use any dataset, but it must have **at least 1000 images**.\n",
        "* The dataset should not have been used in any previous machine learning submissions.\n",
        "* Divide the dataset into **80% training set and 20% test set**.\n",
        "* Model must use a `sequential model`.\n",
        "* Model must include `Conv2D Maxpooling Layer`.\n",
        "* Achieve **at least 80% accuracy** on both training and validation sets.\n",
        "* Use Callbacks.\n",
        "* Create plots for model accuracy and loss.\n",
        "* Write code to save the model in *TF-Lite format*.\n",
        "\n",
        "**Dataset : https://www.kaggle.com/datasets/shiv28/animal-5-mammal**\n",
        "\n",
        "**About Dataset**\n",
        "\n",
        "It contains about 15K medium quality animal images belonging to 10 categories: **dog, cat, horse, elephant ,lion**. All the images have been collected from `google images` and have been checked by human. There is some erroneous data to simulate real conditions (eg. images taken by users of your app)."
      ]
    },
    {
      "cell_type": "markdown",
      "metadata": {
        "id": "R-LDnE4ykcJi"
      },
      "source": [
        "### __IMPORT LIBRARY__"
      ]
    },
    {
      "cell_type": "code",
      "execution_count": 56,
      "metadata": {
        "colab": {
          "base_uri": "https://localhost:8080/"
        },
        "id": "kbq6AFurXUW7",
        "outputId": "fad5c907-0c0b-4997-fa8e-54bebd2c9aa5"
      },
      "outputs": [
        {
          "name": "stdout",
          "output_type": "stream",
          "text": [
            "Drive already mounted at /content/drive; to attempt to forcibly remount, call drive.mount(\"/content/drive\", force_remount=True).\n"
          ]
        }
      ],
      "source": [
        "from google.colab import drive\n",
        "drive.mount('/content/drive')"
      ]
    },
    {
      "cell_type": "code",
      "execution_count": 57,
      "metadata": {
        "colab": {
          "base_uri": "https://localhost:8080/"
        },
        "id": "Csijph_WgjoZ",
        "outputId": "28381eb3-b08b-4c99-a474-af911622ed5a"
      },
      "outputs": [
        {
          "name": "stdout",
          "output_type": "stream",
          "text": [
            "2.15.0\n"
          ]
        }
      ],
      "source": [
        "import os\n",
        "import matplotlib.pyplot as plt\n",
        "import tensorflow as tf\n",
        "from PIL import Image\n",
        "from tensorflow.keras.applications import InceptionV3, Xception, ResNet50V2\n",
        "from tensorflow.keras.layers import Conv2D, MaxPooling2D, GlobalAveragePooling2D, Dense, Dropout, Flatten, BatchNormalization\n",
        "from tensorflow.keras.callbacks import ReduceLROnPlateau\n",
        "from tensorflow.keras.preprocessing.image import ImageDataGenerator\n",
        "from tensorflow.keras.callbacks import ReduceLROnPlateau\n",
        "\n",
        "print(tf.__version__)"
      ]
    },
    {
      "cell_type": "markdown",
      "metadata": {
        "id": "Os-yVU_kTeOp"
      },
      "source": [
        "### __DATASET__"
      ]
    },
    {
      "cell_type": "code",
      "execution_count": 58,
      "metadata": {
        "colab": {
          "base_uri": "https://localhost:8080/"
        },
        "id": "ZXLcX0xzhCOp",
        "outputId": "33721a9a-7c8a-45a8-e487-62e3656507de"
      },
      "outputs": [
        {
          "name": "stdout",
          "output_type": "stream",
          "text": [
            "\n",
            "Directory dataset info\n",
            "Folder and its number of files:\n",
            "elephant [2730] files\n",
            "lion [2675] files\n",
            "dog [2627] files\n",
            "cat [2737] files\n",
            "horse [2709] files\n",
            "\n",
            "Total files in all folders: 13478\n",
            "Total folders (label): 5\n",
            "\n",
            "List various resolutions\n",
            "Size all images: 13478\n",
            "Size unique images: 774\n",
            "First 8 unique images: ['1800x1799', '245x206', '1024x568', '1024x798', '217x232', '414x122', '1600x1085', '510x340']\n"
          ]
        }
      ],
      "source": [
        "# Dataset Train\n",
        "dataset = '/content/drive/MyDrive/DATASET/animals/dataframe'\n",
        "\n",
        "# Loop through each folder within the dataset directory\n",
        "def list_dirs_and_files(directory_path):\n",
        "    print('Folder and its number of files:')\n",
        "\n",
        "    folders = [folder for folder in os.listdir(directory_path) if os.path.isdir(os.path.join(directory_path, folder))]\n",
        "    total_files = 0\n",
        "    total_folders = len(folders)\n",
        "\n",
        "    for folder in folders:\n",
        "        folder_path = os.path.join(directory_path, folder)\n",
        "        files = [file for file in os.listdir(folder_path) if os.path.isfile(os.path.join(folder_path, file))]\n",
        "        file_count = len(files)\n",
        "        total_files += file_count\n",
        "        print(f\"{folder} [{file_count}] files\")\n",
        "\n",
        "    print(f\"\\nTotal files in all folders: {total_files}\")\n",
        "    print(f\"Total folders (label): {total_folders}\")\n",
        "\n",
        "print('\\nDirectory dataset info')\n",
        "list_dirs_and_files(dataset)\n",
        "\n",
        "def list_various_resolutions(directory):\n",
        "    folders = [folder for folder in os.listdir(directory) if os.path.isdir(os.path.join(directory, folder))]\n",
        "    image_sizes = []\n",
        "\n",
        "    for folder in folders:\n",
        "        folder_path = os.path.join(directory, folder)\n",
        "        for file in os.listdir(folder_path):\n",
        "            file_path = os.path.join(folder_path, file)\n",
        "            if os.path.isfile(file_path):\n",
        "                with Image.open(file_path) as image:\n",
        "                    width, height = image.size\n",
        "                    image_sizes.append(f'{width}x{height}')\n",
        "\n",
        "    unique_sizes = set(image_sizes)\n",
        "    first_size_unique = 8\n",
        "\n",
        "    print(f'Size all images: {len(image_sizes)}')\n",
        "    print(f'Size unique images: {len(unique_sizes)}')\n",
        "    print(f'First {first_size_unique} unique images: {list(unique_sizes)[:first_size_unique]}')\n",
        "\n",
        "print('\\nList various resolutions')\n",
        "list_various_resolutions(dataset)"
      ]
    },
    {
      "cell_type": "markdown",
      "metadata": {
        "id": "08F_T13rFWAp"
      },
      "source": [
        "## __DARA PREPROCESSING__"
      ]
    },
    {
      "cell_type": "code",
      "execution_count": 59,
      "metadata": {
        "colab": {
          "base_uri": "https://localhost:8080/"
        },
        "id": "13A98OuhFY2X",
        "outputId": "c8322db0-82f7-4651-b973-79738ff19023"
      },
      "outputs": [
        {
          "data": {
            "text/plain": [
              "['elephant', 'lion', 'dog', 'cat', 'horse']"
            ]
          },
          "execution_count": 59,
          "metadata": {},
          "output_type": "execute_result"
        }
      ],
      "source": [
        "# Dataset\n",
        "baseDir = '/content/drive/MyDrive/DATASET/animals/dataframe'\n",
        "os.listdir(baseDir)"
      ]
    },
    {
      "cell_type": "code",
      "execution_count": 61,
      "metadata": {
        "colab": {
          "base_uri": "https://localhost:8080/"
        },
        "id": "xOBNPwBxPgd_",
        "outputId": "68afa61f-9cc1-439b-bbcc-9a43cc9656f4"
      },
      "outputs": [
        {
          "name": "stdout",
          "output_type": "stream",
          "text": [
            "Collecting split-folders\n",
            "  Downloading split_folders-0.5.1-py3-none-any.whl (8.4 kB)\n",
            "Installing collected packages: split-folders\n",
            "Successfully installed split-folders-0.5.1\n"
          ]
        },
        {
          "name": "stderr",
          "output_type": "stream",
          "text": [
            "Copying files: 13478 files [05:19, 42.21 files/s]\n"
          ]
        }
      ],
      "source": [
        "!pip install split-folders\n",
        "import splitfolders as sf\n",
        "\n",
        "# Split directory\n",
        "sf.ratio(\n",
        "    baseDir,\n",
        "    output = os.path.join('/content/drive/MyDrive/DATASET/animals'),\n",
        "    seed   = None,\n",
        "    ratio  = (0.8, 0.2)\n",
        ")"
      ]
    },
    {
      "cell_type": "code",
      "execution_count": 62,
      "metadata": {
        "id": "nQ8acyN2SCxm"
      },
      "outputs": [],
      "source": [
        "imageDir = '/content/drive/MyDrive/DATASET/animals'\n",
        "\n",
        "trainDirelephant  = os.path.join(imageDir, 'train/elephant')\n",
        "trainDirlion      = os.path.join(imageDir, 'train/lion')\n",
        "trainDirdog       = os.path.join(imageDir, 'train/dog')\n",
        "trainDircat       = os.path.join(imageDir, 'train/cat')\n",
        "trainDirhorse     = os.path.join(imageDir, 'train/horse')\n",
        "\n",
        "valDirelephant    = os.path.join(imageDir, 'val/elephant')\n",
        "valDirlion        = os.path.join(imageDir, 'val/lion')\n",
        "valDirdog         = os.path.join(imageDir, 'val/dog')\n",
        "valDircat         = os.path.join(imageDir, 'val/cat')\n",
        "valDirhorse       = os.path.join(imageDir, 'val/horse')"
      ]
    },
    {
      "cell_type": "code",
      "execution_count": 63,
      "metadata": {
        "colab": {
          "base_uri": "https://localhost:8080/"
        },
        "id": "F1iRL8UeWR7P",
        "outputId": "b9a6bad6-89fe-4578-a88c-23aa6c11a88d"
      },
      "outputs": [
        {
          "name": "stdout",
          "output_type": "stream",
          "text": [
            "Train Set      : 10781\n",
            "Validation Set : 2697\n"
          ]
        }
      ],
      "source": [
        "# Count train and val image\n",
        "trainSet = (\n",
        "      len(os.listdir(trainDirelephant))\n",
        "    + len(os.listdir(trainDirlion))\n",
        "    + len(os.listdir(trainDirdog))\n",
        "    + len(os.listdir(trainDircat))\n",
        "    + len(os.listdir(trainDirhorse))\n",
        ")\n",
        "\n",
        "valSet = (\n",
        "      len(os.listdir(valDirelephant))\n",
        "    + len(os.listdir(valDirlion))\n",
        "    + len(os.listdir(valDirdog))\n",
        "    + len(os.listdir(valDircat))\n",
        "    + len(os.listdir(valDirhorse))\n",
        ")\n",
        "\n",
        "print(f'Train Set      : {trainSet}')\n",
        "print(f'Validation Set : {valSet}')"
      ]
    },
    {
      "cell_type": "code",
      "execution_count": 65,
      "metadata": {
        "colab": {
          "base_uri": "https://localhost:8080/"
        },
        "id": "5yBGiZDBWpa4",
        "outputId": "a5c72263-4d15-4c36-84ac-3389ffc4e551"
      },
      "outputs": [
        {
          "name": "stdout",
          "output_type": "stream",
          "text": [
            "['elephant', 'lion', 'dog', 'cat', 'horse']\n",
            "['elephant', 'lion', 'dog', 'cat', 'horse']\n"
          ]
        }
      ],
      "source": [
        "# List directory of train and validation image\n",
        "train_dir = os.path.join(imageDir, 'train')\n",
        "val_dir   = os.path.join(imageDir, 'val')\n",
        "\n",
        "print(os.listdir(train_dir))\n",
        "print(os.listdir(val_dir))"
      ]
    },
    {
      "cell_type": "code",
      "execution_count": 66,
      "metadata": {
        "id": "yLylr_H0hCOr"
      },
      "outputs": [],
      "source": [
        "#Image Generator\n",
        "train_datagen = ImageDataGenerator(\n",
        "    rescale = 1./255,\n",
        "    rotation_range = 45,\n",
        "    width_shift_range = 0.2,\n",
        "    height_shift_range = 0.2,\n",
        "    shear_range = 0.2,\n",
        "    zoom_range = 0.2,\n",
        "    horizontal_flip = True,\n",
        "    vertical_flip = True,\n",
        "    fill_mode = 'nearest',\n",
        "    validation_split = 0.2,)\n",
        "\n",
        "test_datagen = ImageDataGenerator(rescale=1./255)"
      ]
    },
    {
      "cell_type": "code",
      "execution_count": 67,
      "metadata": {
        "colab": {
          "base_uri": "https://localhost:8080/"
        },
        "id": "plnsmg9MhCOr",
        "outputId": "de88355a-97c2-43c2-bbf7-7a34a6e80318"
      },
      "outputs": [
        {
          "name": "stdout",
          "output_type": "stream",
          "text": [
            "Found 10781 images belonging to 5 classes.\n",
            "Found 2697 images belonging to 5 classes.\n"
          ]
        }
      ],
      "source": [
        "\n",
        "train_gen = train_datagen.flow_from_directory(\n",
        "    train_dir,\n",
        "    target_size = (224, 224),\n",
        "    batch_size = 64,\n",
        "    shuffle = True,\n",
        "    color_mode = 'rgb',\n",
        "    class_mode = 'categorical',\n",
        ")\n",
        "\n",
        "val_gen = test_datagen.flow_from_directory(\n",
        "    val_dir,\n",
        "    target_size = (224, 224),\n",
        "    batch_size = 64,\n",
        "    shuffle = True,\n",
        "    color_mode = 'rgb',\n",
        "    class_mode = 'categorical',\n",
        ")"
      ]
    },
    {
      "cell_type": "markdown",
      "metadata": {
        "id": "IGjRIMs0FdjI"
      },
      "source": [
        "## __MODELLING__"
      ]
    },
    {
      "cell_type": "code",
      "execution_count": 72,
      "metadata": {
        "id": "7DfW5MlaEdXZ"
      },
      "outputs": [],
      "source": [
        "# Transfer Learning from ResNetv50\n",
        "base_model = ResNet50V2(weights='imagenet', include_top=False, input_shape=(224, 224, 3))\n",
        "\n",
        "for layer in base_model.layers:\n",
        "    layer.trainable = False"
      ]
    },
    {
      "cell_type": "code",
      "execution_count": 73,
      "metadata": {
        "colab": {
          "base_uri": "https://localhost:8080/"
        },
        "id": "J6Uu8cj6SBc6",
        "outputId": "c73818b0-c2b5-4337-b5a8-094b17a7f40e"
      },
      "outputs": [
        {
          "name": "stdout",
          "output_type": "stream",
          "text": [
            "Model: \"sequential_11\"\n",
            "_________________________________________________________________\n",
            " Layer (type)                Output Shape              Param #   \n",
            "=================================================================\n",
            " resnet50v2 (Functional)     (None, 7, 7, 2048)        23564800  \n",
            "                                                                 \n",
            " conv2d_121 (Conv2D)         (None, 7, 7, 128)         2359424   \n",
            "                                                                 \n",
            " max_pooling2d_42 (MaxPooli  (None, 3, 3, 128)         0         \n",
            " ng2D)                                                           \n",
            "                                                                 \n",
            " conv2d_122 (Conv2D)         (None, 3, 3, 256)         295168    \n",
            "                                                                 \n",
            " max_pooling2d_43 (MaxPooli  (None, 1, 1, 256)         0         \n",
            " ng2D)                                                           \n",
            "                                                                 \n",
            " global_average_pooling2d_1  (None, 256)               0         \n",
            " 1 (GlobalAveragePooling2D)                                      \n",
            "                                                                 \n",
            " batch_normalization_109 (B  (None, 256)               1024      \n",
            " atchNormalization)                                              \n",
            "                                                                 \n",
            " dense_50 (Dense)            (None, 2048)              526336    \n",
            "                                                                 \n",
            " dense_51 (Dense)            (None, 1024)              2098176   \n",
            "                                                                 \n",
            " dropout_27 (Dropout)        (None, 1024)              0         \n",
            "                                                                 \n",
            " dense_52 (Dense)            (None, 512)               524800    \n",
            "                                                                 \n",
            " dense_53 (Dense)            (None, 256)               131328    \n",
            "                                                                 \n",
            " dropout_28 (Dropout)        (None, 256)               0         \n",
            "                                                                 \n",
            " dense_54 (Dense)            (None, 128)               32896     \n",
            "                                                                 \n",
            " dense_55 (Dense)            (None, 5)                 645       \n",
            "                                                                 \n",
            "=================================================================\n",
            "Total params: 29534597 (112.67 MB)\n",
            "Trainable params: 5969285 (22.77 MB)\n",
            "Non-trainable params: 23565312 (89.89 MB)\n",
            "_________________________________________________________________\n"
          ]
        }
      ],
      "source": [
        "# model's architecture\n",
        "model = tf.keras.models.Sequential([\n",
        "    base_model,\n",
        "    Conv2D(128, (3, 3), activation = 'relu', padding = 'same'),\n",
        "    MaxPooling2D((2,2)),\n",
        "    Conv2D(256, (3, 3), activation = 'relu', padding = 'same'),\n",
        "    MaxPooling2D((2,2)),\n",
        "    GlobalAveragePooling2D(),\n",
        "    BatchNormalization(),\n",
        "    Dense(2048, activation = 'relu'),\n",
        "    Dense(1024, activation = 'relu'),\n",
        "    Dropout(.3),\n",
        "    Dense(512, activation = 'relu'),\n",
        "    Dense(256, activation = 'relu'),\n",
        "    Dropout(.3),\n",
        "    Dense(128, activation = 'relu'),\n",
        "    Dense(5, activation='softmax')\n",
        "])\n",
        "\n",
        "model.summary()"
      ]
    },
    {
      "cell_type": "code",
      "execution_count": 74,
      "metadata": {
        "id": "Pp7GuR75UVzz"
      },
      "outputs": [],
      "source": [
        "# Compiling the model\n",
        "model.compile(\n",
        "    loss ='categorical_crossentropy',\n",
        "    optimizer = tf.optimizers.Adam(learning_rate = 0.001),\n",
        "    metrics = ['accuracy']\n",
        ")"
      ]
    },
    {
      "cell_type": "markdown",
      "metadata": {
        "id": "985LsKDkhCOs"
      },
      "source": [
        "## __CALLBACK__"
      ]
    },
    {
      "cell_type": "code",
      "execution_count": 75,
      "metadata": {
        "id": "FsIq4_DFhCOs"
      },
      "outputs": [],
      "source": [
        "# Stop training callback\n",
        "class stopCallback(tf.keras.callbacks.Callback):\n",
        "    def on_epoch_end(self, epoch, logs={}):\n",
        "        if (logs.get('accuracy') > 0.92 and logs.get('val_accuracy') > 0.92):\n",
        "            print('\\nAccuracy and Validation Accuracy reach > 92%')\n",
        "            self.model.stop_training = True\n",
        "\n",
        "MyCallbacks = stopCallback()\n",
        "\n",
        "# ReduceLROnPlateau callback\n",
        "reduceLROP   = ReduceLROnPlateau(monitor='val_loss', factor=0.2, patience=5, min_lr=0.0001)\n"
      ]
    },
    {
      "cell_type": "markdown",
      "metadata": {
        "id": "VuzeIJInhCOs"
      },
      "source": [
        "## __FUNGSI FIT__"
      ]
    },
    {
      "cell_type": "code",
      "execution_count": 76,
      "metadata": {
        "colab": {
          "base_uri": "https://localhost:8080/"
        },
        "id": "rtXToPOjhCOs",
        "outputId": "dabb90c3-07f0-45bf-8945-573709de11f7"
      },
      "outputs": [
        {
          "name": "stdout",
          "output_type": "stream",
          "text": [
            "Epoch 1/50\n",
            "16/16 - 62s - loss: 0.8981 - accuracy: 0.6249 - val_loss: 2.0312 - val_accuracy: 0.6924 - lr: 0.0010 - 62s/epoch - 4s/step\n",
            "Epoch 2/50\n",
            "16/16 - 30s - loss: 0.5021 - accuracy: 0.8125 - val_loss: 0.3898 - val_accuracy: 0.9102 - lr: 0.0010 - 30s/epoch - 2s/step\n",
            "Epoch 3/50\n",
            "16/16 - 31s - loss: 0.4930 - accuracy: 0.8291 - val_loss: 0.3444 - val_accuracy: 0.9102 - lr: 0.0010 - 31s/epoch - 2s/step\n",
            "Epoch 4/50\n",
            "16/16 - 29s - loss: 0.3845 - accuracy: 0.8428 - val_loss: 0.2671 - val_accuracy: 0.9258 - lr: 0.0010 - 29s/epoch - 2s/step\n",
            "Epoch 5/50\n",
            "16/16 - 27s - loss: 0.4426 - accuracy: 0.8398 - val_loss: 0.2276 - val_accuracy: 0.9434 - lr: 0.0010 - 27s/epoch - 2s/step\n",
            "Epoch 6/50\n",
            "16/16 - 28s - loss: 0.4102 - accuracy: 0.8535 - val_loss: 0.1999 - val_accuracy: 0.9404 - lr: 0.0010 - 28s/epoch - 2s/step\n",
            "Epoch 7/50\n",
            "16/16 - 30s - loss: 0.3888 - accuracy: 0.8613 - val_loss: 0.1509 - val_accuracy: 0.9502 - lr: 0.0010 - 30s/epoch - 2s/step\n",
            "Epoch 8/50\n",
            "16/16 - 27s - loss: 0.3755 - accuracy: 0.8613 - val_loss: 0.1548 - val_accuracy: 0.9414 - lr: 0.0010 - 27s/epoch - 2s/step\n",
            "Epoch 9/50\n",
            "16/16 - 29s - loss: 0.3089 - accuracy: 0.8848 - val_loss: 0.2134 - val_accuracy: 0.9375 - lr: 0.0010 - 29s/epoch - 2s/step\n",
            "Epoch 10/50\n",
            "16/16 - 27s - loss: 0.3489 - accuracy: 0.8848 - val_loss: 0.1239 - val_accuracy: 0.9570 - lr: 0.0010 - 27s/epoch - 2s/step\n",
            "Epoch 11/50\n",
            "16/16 - 28s - loss: 0.3943 - accuracy: 0.8633 - val_loss: 0.1408 - val_accuracy: 0.9580 - lr: 0.0010 - 28s/epoch - 2s/step\n",
            "Epoch 12/50\n",
            "16/16 - 31s - loss: 0.3153 - accuracy: 0.8906 - val_loss: 0.1618 - val_accuracy: 0.9443 - lr: 0.0010 - 31s/epoch - 2s/step\n",
            "Epoch 13/50\n",
            "16/16 - 29s - loss: 0.3127 - accuracy: 0.9014 - val_loss: 0.1445 - val_accuracy: 0.9473 - lr: 0.0010 - 29s/epoch - 2s/step\n",
            "Epoch 14/50\n",
            "16/16 - 28s - loss: 0.3202 - accuracy: 0.8809 - val_loss: 0.2358 - val_accuracy: 0.9277 - lr: 0.0010 - 28s/epoch - 2s/step\n",
            "Epoch 15/50\n",
            "16/16 - 28s - loss: 0.3313 - accuracy: 0.8867 - val_loss: 0.2009 - val_accuracy: 0.9414 - lr: 0.0010 - 28s/epoch - 2s/step\n",
            "Epoch 16/50\n",
            "16/16 - 30s - loss: 0.3493 - accuracy: 0.8828 - val_loss: 0.1260 - val_accuracy: 0.9561 - lr: 2.0000e-04 - 30s/epoch - 2s/step\n",
            "Epoch 17/50\n",
            "16/16 - 30s - loss: 0.2686 - accuracy: 0.9014 - val_loss: 0.1585 - val_accuracy: 0.9443 - lr: 2.0000e-04 - 30s/epoch - 2s/step\n",
            "Epoch 18/50\n",
            "16/16 - 27s - loss: 0.2489 - accuracy: 0.9072 - val_loss: 0.1188 - val_accuracy: 0.9648 - lr: 2.0000e-04 - 27s/epoch - 2s/step\n",
            "Epoch 19/50\n",
            "16/16 - 29s - loss: 0.2588 - accuracy: 0.9111 - val_loss: 0.1309 - val_accuracy: 0.9561 - lr: 2.0000e-04 - 29s/epoch - 2s/step\n",
            "Epoch 20/50\n",
            "16/16 - 40s - loss: 0.2547 - accuracy: 0.9070 - val_loss: 0.1308 - val_accuracy: 0.9512 - lr: 2.0000e-04 - 40s/epoch - 2s/step\n",
            "Epoch 21/50\n",
            "16/16 - 29s - loss: 0.2846 - accuracy: 0.8789 - val_loss: 0.1337 - val_accuracy: 0.9570 - lr: 2.0000e-04 - 29s/epoch - 2s/step\n",
            "Epoch 22/50\n",
            "16/16 - 29s - loss: 0.2320 - accuracy: 0.9102 - val_loss: 0.1233 - val_accuracy: 0.9512 - lr: 2.0000e-04 - 29s/epoch - 2s/step\n",
            "Epoch 23/50\n",
            "16/16 - 28s - loss: 0.2378 - accuracy: 0.9092 - val_loss: 0.1374 - val_accuracy: 0.9502 - lr: 2.0000e-04 - 28s/epoch - 2s/step\n",
            "Epoch 24/50\n",
            "16/16 - 28s - loss: 0.2633 - accuracy: 0.9043 - val_loss: 0.1218 - val_accuracy: 0.9521 - lr: 1.0000e-04 - 28s/epoch - 2s/step\n",
            "Epoch 25/50\n",
            "16/16 - 30s - loss: 0.2498 - accuracy: 0.9111 - val_loss: 0.1134 - val_accuracy: 0.9609 - lr: 1.0000e-04 - 30s/epoch - 2s/step\n",
            "Epoch 26/50\n",
            "16/16 - 29s - loss: 0.2887 - accuracy: 0.8887 - val_loss: 0.1137 - val_accuracy: 0.9561 - lr: 1.0000e-04 - 29s/epoch - 2s/step\n",
            "Epoch 27/50\n",
            "16/16 - 30s - loss: 0.2441 - accuracy: 0.9160 - val_loss: 0.1218 - val_accuracy: 0.9580 - lr: 1.0000e-04 - 30s/epoch - 2s/step\n",
            "Epoch 28/50\n",
            "16/16 - 27s - loss: 0.2647 - accuracy: 0.8878 - val_loss: 0.1225 - val_accuracy: 0.9570 - lr: 1.0000e-04 - 27s/epoch - 2s/step\n",
            "Epoch 29/50\n",
            "16/16 - 30s - loss: 0.2600 - accuracy: 0.9062 - val_loss: 0.1311 - val_accuracy: 0.9521 - lr: 1.0000e-04 - 30s/epoch - 2s/step\n",
            "Epoch 30/50\n",
            "16/16 - 28s - loss: 0.2509 - accuracy: 0.9053 - val_loss: 0.1140 - val_accuracy: 0.9580 - lr: 1.0000e-04 - 28s/epoch - 2s/step\n",
            "Epoch 31/50\n",
            "16/16 - 29s - loss: 0.2437 - accuracy: 0.9043 - val_loss: 0.1128 - val_accuracy: 0.9658 - lr: 1.0000e-04 - 29s/epoch - 2s/step\n",
            "Epoch 32/50\n",
            "16/16 - 30s - loss: 0.2494 - accuracy: 0.8975 - val_loss: 0.1044 - val_accuracy: 0.9609 - lr: 1.0000e-04 - 30s/epoch - 2s/step\n",
            "Epoch 33/50\n",
            "16/16 - 31s - loss: 0.2160 - accuracy: 0.9150 - val_loss: 0.1149 - val_accuracy: 0.9609 - lr: 1.0000e-04 - 31s/epoch - 2s/step\n",
            "Epoch 34/50\n",
            "16/16 - 27s - loss: 0.2166 - accuracy: 0.9199 - val_loss: 0.1240 - val_accuracy: 0.9561 - lr: 1.0000e-04 - 27s/epoch - 2s/step\n",
            "Epoch 35/50\n",
            "16/16 - 28s - loss: 0.2399 - accuracy: 0.9189 - val_loss: 0.0872 - val_accuracy: 0.9678 - lr: 1.0000e-04 - 28s/epoch - 2s/step\n",
            "Epoch 36/50\n",
            "16/16 - 29s - loss: 0.2388 - accuracy: 0.9004 - val_loss: 0.1024 - val_accuracy: 0.9521 - lr: 1.0000e-04 - 29s/epoch - 2s/step\n",
            "Epoch 37/50\n",
            "16/16 - 27s - loss: 0.2329 - accuracy: 0.9080 - val_loss: 0.1304 - val_accuracy: 0.9512 - lr: 1.0000e-04 - 27s/epoch - 2s/step\n",
            "Epoch 38/50\n",
            "16/16 - 31s - loss: 0.2176 - accuracy: 0.9160 - val_loss: 0.1222 - val_accuracy: 0.9521 - lr: 1.0000e-04 - 31s/epoch - 2s/step\n",
            "Epoch 39/50\n",
            "\n",
            "Accuracy and Validation Accuracy reach > 92%\n",
            "16/16 - 29s - loss: 0.1993 - accuracy: 0.9219 - val_loss: 0.0866 - val_accuracy: 0.9658 - lr: 1.0000e-04 - 29s/epoch - 2s/step\n"
          ]
        }
      ],
      "source": [
        "epoch_number = 50\n",
        "history = model.fit(\n",
        "    train_gen,\n",
        "    epochs = epoch_number,\n",
        "    steps_per_epoch = 16,\n",
        "    validation_data = val_gen,\n",
        "    validation_steps = 16,\n",
        "    callbacks = [MyCallbacks, reduceLROP],\n",
        "    verbose = 2,\n",
        ")"
      ]
    },
    {
      "cell_type": "markdown",
      "metadata": {
        "id": "XCu4l68zhCOt"
      },
      "source": [
        "## __PLOTTING__"
      ]
    },
    {
      "cell_type": "code",
      "execution_count": 77,
      "metadata": {
        "colab": {
          "base_uri": "https://localhost:8080/",
          "height": 487
        },
        "id": "PzQlSg_ahCOt",
        "outputId": "ea8d6028-8f6d-424d-e2e6-ab235db0d45d"
      },
      "outputs": [
        {
          "data": {
            "image/png": "[encoded data removed]",
            "text/plain": [
              "<Figure size 800x500 with 1 Axes>"
            ]
          },
          "metadata": {},
          "output_type": "display_data"
        }
      ],
      "source": [
        "#loss Plot\n",
        "plt.figure(figsize=(8,5))\n",
        "plt.plot(history.history['loss'], label='Training Loss')\n",
        "plt.plot(history.history['val_loss'], label='Validation Loss')\n",
        "plt.title('Loss Plot')\n",
        "plt.ylabel('Loss')\n",
        "plt.xlabel('Epoch')\n",
        "plt.legend(loc=\"upper right\")\n",
        "plt.show()"
      ]
    },
    {
      "cell_type": "code",
      "execution_count": 78,
      "metadata": {
        "colab": {
          "base_uri": "https://localhost:8080/",
          "height": 487
        },
        "id": "pxIqeEIPhCOt",
        "outputId": "78999ad7-7096-4d58-bda7-7e0633802998"
      },
      "outputs": [
        {
          "data": {
            "image/png": "[encoded data removed]",
            "text/plain": [
              "<Figure size 800x500 with 1 Axes>"
            ]
          },
          "metadata": {},
          "output_type": "display_data"
        }
      ],
      "source": [
        "#Accuracy Plot\n",
        "plt.figure(figsize=(8,5))\n",
        "plt.plot(history.history['accuracy'], label='Training Accuracy')\n",
        "plt.plot(history.history['val_accuracy'], label='Validation Accuracy')\n",
        "plt.title('Accuracy Plot')\n",
        "plt.ylabel('Accuracy')\n",
        "plt.xlabel('Epoch')\n",
        "plt.legend(loc=\"upper left\")\n",
        "plt.show()"
      ]
    },
    {
      "cell_type": "markdown",
      "metadata": {
        "id": "fsfkclC8YHLT"
      },
      "source": [
        "## __SAVE MODEL TF-LITE__"
      ]
    },
    {
      "cell_type": "code",
      "execution_count": 79,
      "metadata": {
        "id": "iX25uO92YHLZ"
      },
      "outputs": [],
      "source": [
        "import warnings\n",
        "\n",
        "warnings.filterwarnings('ignore') # Ignore Warning\n",
        "\n",
        "# Convert model\n",
        "converter = tf.lite.TFLiteConverter.from_keras_model(model)\n",
        "tflite_model = converter.convert()\n",
        "\n",
        "# Save the model.\n",
        "with tf.io.gfile.GFile('Animal_ClassV1.tflite', 'wb') as f:\n",
        "  f.write(tflite_model)"
      ]
    },
    {
      "cell_type": "code",
      "execution_count": 80,
      "metadata": {
        "colab": {
          "base_uri": "https://localhost:8080/",
          "height": 35
        },
        "id": "IRg1RmJoYHLa",
        "outputId": "bb802a3d-64ea-4b15-8a52-8feb9af1d443"
      },
      "outputs": [
        {
          "data": {
            "application/javascript": "\n    async function download(id, filename, size) {\n      if (!google.colab.kernel.accessAllowed) {\n        return;\n      }\n      const div = document.createElement('div');\n      const label = document.createElement('label');\n      label.textContent = `Downloading \"${filename}\": `;\n      div.appendChild(label);\n      const progress = document.createElement('progress');\n      progress.max = size;\n      div.appendChild(progress);\n      document.body.appendChild(div);\n\n      const buffers = [];\n      let downloaded = 0;\n\n      const channel = await google.colab.kernel.comms.open(id);\n      // Send a message to notify the kernel that we're ready.\n      channel.send({})\n\n      for await (const message of channel.messages) {\n        // Send a message to notify the kernel that we're ready.\n        channel.send({})\n        if (message.buffers) {\n          for (const buffer of message.buffers) {\n            buffers.push(buffer);\n            downloaded += buffer.byteLength;\n            progress.value = downloaded;\n          }\n        }\n      }\n      const blob = new Blob(buffers, {type: 'application/binary'});\n      const a = document.createElement('a');\n      a.href = window.URL.createObjectURL(blob);\n      a.download = filename;\n      div.appendChild(a);\n      a.click();\n      div.remove();\n    }\n  ",
            "text/plain": [
              "<IPython.core.display.Javascript object>"
            ]
          },
          "metadata": {},
          "output_type": "display_data"
        },
        {
          "data": {
            "application/javascript": "download(\"download_e0b5e3fc-80fa-4045-8d95-2b535c41553f\", \"Animal_ClassV1.tflite\", 117980228)",
            "text/plain": [
              "<IPython.core.display.Javascript object>"
            ]
          },
          "metadata": {},
          "output_type": "display_data"
        },
        {
          "name": "stdout",
          "output_type": "stream",
          "text": [
            "`model.tflite` has been downloaded\n"
          ]
        }
      ],
      "source": [
        "from google.colab import files\n",
        "\n",
        "# Download the flower model\n",
        "files.download('/content/Animal_ClassV1.tflite')\n",
        "\n",
        "print('`model.tflite` has been downloaded')"
      ]
    }
  ],
  "metadata": {
    "accelerator": "GPU",
    "colab": {
      "collapsed_sections": [
        "Os-yVU_kTeOp",
        "ZppMte-YEy1f",
        "08F_T13rFWAp",
        "IGjRIMs0FdjI",
        "985LsKDkhCOs"
      ],
      "gpuType": "T4",
      "provenance": []
    },
    "kernelspec": {
      "display_name": "Python 3",
      "name": "python3"
    },
    "language_info": {
      "codemirror_mode": {
        "name": "ipython",
        "version": 3
      },
      "file_extension": ".py",
      "mimetype": "text/x-python",
      "name": "python",
      "nbconvert_exporter": "python",
      "pygments_lexer": "ipython3",
      "version": "3.9.17"
    }
  },
  "nbformat": 4,
  "nbformat_minor": 0
}
